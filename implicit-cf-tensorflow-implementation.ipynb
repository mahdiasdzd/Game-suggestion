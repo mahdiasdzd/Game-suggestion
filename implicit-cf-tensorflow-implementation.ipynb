{
 "cells": [
  {
   "cell_type": "markdown",
   "metadata": {
    "_uuid": "47563e3ee746f3f2d5e8bd51316c3729b2c3e0d0",
    "deletable": true,
    "editable": true
   },
   "source": [
    "\n",
    "# Import packages"
   ]
  },
  {
   "cell_type": "code",
   "execution_count": 32,
   "metadata": {
    "_uuid": "5c299b7bf892ff92ee478f37477a833bc111bcec",
    "collapsed": false,
    "deletable": true,
    "editable": true,
    "jupyter": {
     "outputs_hidden": false
    }
   },
   "outputs": [],
   "source": [
    "import numpy as np \n",
    "import pandas as pd \n",
    "import tensorflow as tf\n",
    "import tensorflow.keras\n",
    "import random\n",
    "from collections import Counter\n",
    "from sklearn.metrics import roc_curve, auc, average_precision_score"
   ]
  },
  {
   "cell_type": "code",
   "execution_count": 2,
   "metadata": {
    "_uuid": "43a5b0586e3039eb976c3a8517614487ed154184",
    "collapsed": false,
    "deletable": true,
    "editable": true,
    "jupyter": {
     "outputs_hidden": false
    }
   },
   "outputs": [
    {
     "data": {
      "text/html": [
       "<div>\n",
       "<style scoped>\n",
       "    .dataframe tbody tr th:only-of-type {\n",
       "        vertical-align: middle;\n",
       "    }\n",
       "\n",
       "    .dataframe tbody tr th {\n",
       "        vertical-align: top;\n",
       "    }\n",
       "\n",
       "    .dataframe thead th {\n",
       "        text-align: right;\n",
       "    }\n",
       "</style>\n",
       "<table border=\"1\" class=\"dataframe\">\n",
       "  <thead>\n",
       "    <tr style=\"text-align: right;\">\n",
       "      <th></th>\n",
       "      <th>UserID</th>\n",
       "      <th>Game</th>\n",
       "      <th>Action</th>\n",
       "      <th>Hours</th>\n",
       "      <th>-</th>\n",
       "    </tr>\n",
       "  </thead>\n",
       "  <tbody>\n",
       "    <tr>\n",
       "      <th>0</th>\n",
       "      <td>151603712</td>\n",
       "      <td>The Elder Scrolls V Skyrim</td>\n",
       "      <td>purchase</td>\n",
       "      <td>1.0</td>\n",
       "      <td>0</td>\n",
       "    </tr>\n",
       "    <tr>\n",
       "      <th>1</th>\n",
       "      <td>151603712</td>\n",
       "      <td>The Elder Scrolls V Skyrim</td>\n",
       "      <td>play</td>\n",
       "      <td>273.0</td>\n",
       "      <td>0</td>\n",
       "    </tr>\n",
       "    <tr>\n",
       "      <th>2</th>\n",
       "      <td>151603712</td>\n",
       "      <td>Fallout 4</td>\n",
       "      <td>purchase</td>\n",
       "      <td>1.0</td>\n",
       "      <td>0</td>\n",
       "    </tr>\n",
       "    <tr>\n",
       "      <th>3</th>\n",
       "      <td>151603712</td>\n",
       "      <td>Fallout 4</td>\n",
       "      <td>play</td>\n",
       "      <td>87.0</td>\n",
       "      <td>0</td>\n",
       "    </tr>\n",
       "    <tr>\n",
       "      <th>4</th>\n",
       "      <td>151603712</td>\n",
       "      <td>Spore</td>\n",
       "      <td>purchase</td>\n",
       "      <td>1.0</td>\n",
       "      <td>0</td>\n",
       "    </tr>\n",
       "  </tbody>\n",
       "</table>\n",
       "</div>"
      ],
      "text/plain": [
       "      UserID                        Game    Action  Hours  -\n",
       "0  151603712  The Elder Scrolls V Skyrim  purchase    1.0  0\n",
       "1  151603712  The Elder Scrolls V Skyrim      play  273.0  0\n",
       "2  151603712                   Fallout 4  purchase    1.0  0\n",
       "3  151603712                   Fallout 4      play   87.0  0\n",
       "4  151603712                       Spore  purchase    1.0  0"
      ]
     },
     "execution_count": 2,
     "metadata": {},
     "output_type": "execute_result"
    }
   ],
   "source": [
    "path = 'steam-200k.csv'\n",
    "\n",
    "df = pd.read_csv(path, header = None,\n",
    "                 names = ['UserID', 'Game', 'Action', 'Hours', '-'])\n",
    "df.head()"
   ]
  },
  {
   "cell_type": "code",
   "execution_count": 3,
   "metadata": {
    "_uuid": "8e2ad827a6e864c561b299a3dbb2e3c7f7723cdf",
    "deletable": true,
    "editable": true,
    "tags": []
   },
   "outputs": [],
   "source": [
    "# Creating a new variable 'Hours Played' and code it as previously described.\n",
    "df['Hours_Played'] = df['Hours'].astype('float32')\n",
    "\n",
    "df.loc[(df['Action'] == 'purchase') & (df['Hours'] == 1.0), 'Hours_Played'] = 0"
   ]
  },
  {
   "cell_type": "code",
   "execution_count": 5,
   "metadata": {
    "_uuid": "9a90c3f91b63a38f251b34ef2d48871dac4f7096",
    "collapsed": false,
    "deletable": true,
    "editable": true,
    "jupyter": {
     "outputs_hidden": false
    }
   },
   "outputs": [
    {
     "data": {
      "text/html": [
       "<div>\n",
       "<style scoped>\n",
       "    .dataframe tbody tr th:only-of-type {\n",
       "        vertical-align: middle;\n",
       "    }\n",
       "\n",
       "    .dataframe tbody tr th {\n",
       "        vertical-align: top;\n",
       "    }\n",
       "\n",
       "    .dataframe thead th {\n",
       "        text-align: right;\n",
       "    }\n",
       "</style>\n",
       "<table border=\"1\" class=\"dataframe\">\n",
       "  <thead>\n",
       "    <tr style=\"text-align: right;\">\n",
       "      <th></th>\n",
       "      <th>UserID</th>\n",
       "      <th>Game</th>\n",
       "      <th>Hours_Played</th>\n",
       "    </tr>\n",
       "  </thead>\n",
       "  <tbody>\n",
       "    <tr>\n",
       "      <th>65430</th>\n",
       "      <td>5250</td>\n",
       "      <td>Alien Swarm</td>\n",
       "      <td>4.9</td>\n",
       "    </tr>\n",
       "    <tr>\n",
       "      <th>65424</th>\n",
       "      <td>5250</td>\n",
       "      <td>Cities Skylines</td>\n",
       "      <td>144.0</td>\n",
       "    </tr>\n",
       "    <tr>\n",
       "      <th>65435</th>\n",
       "      <td>5250</td>\n",
       "      <td>Counter-Strike</td>\n",
       "      <td>0.0</td>\n",
       "    </tr>\n",
       "    <tr>\n",
       "      <th>65436</th>\n",
       "      <td>5250</td>\n",
       "      <td>Counter-Strike Source</td>\n",
       "      <td>0.0</td>\n",
       "    </tr>\n",
       "    <tr>\n",
       "      <th>65437</th>\n",
       "      <td>5250</td>\n",
       "      <td>Day of Defeat</td>\n",
       "      <td>0.0</td>\n",
       "    </tr>\n",
       "  </tbody>\n",
       "</table>\n",
       "</div>"
      ],
      "text/plain": [
       "       UserID                   Game  Hours_Played\n",
       "65430    5250            Alien Swarm           4.9\n",
       "65424    5250        Cities Skylines         144.0\n",
       "65435    5250         Counter-Strike           0.0\n",
       "65436    5250  Counter-Strike Source           0.0\n",
       "65437    5250          Day of Defeat           0.0"
      ]
     },
     "execution_count": 5,
     "metadata": {},
     "output_type": "execute_result"
    }
   ],
   "source": [
    "# Sort the df by User ID, games, and hours played\n",
    "# Drop the duplicated records, and unnecessary columns\n",
    "df.UserID = df.UserID.astype('int')\n",
    "df = df.sort_values(['UserID', 'Game', 'Hours_Played'])\n",
    "\n",
    "clean_df = df.drop_duplicates(['UserID', 'Game'], keep = 'last').drop(['Action', 'Hours', '-'], axis = 1)\n",
    "\n",
    "# every transaction is represented by only one record now\n",
    "clean_df.head()"
   ]
  },
  {
   "cell_type": "code",
   "execution_count": 6,
   "metadata": {
    "_uuid": "3f757f2c2d51cf91f1bffc4e084b7679c6f63d29",
    "collapsed": false,
    "deletable": true,
    "editable": true,
    "jupyter": {
     "outputs_hidden": false
    }
   },
   "outputs": [
    {
     "name": "stdout",
     "output_type": "stream",
     "text": [
      "There are 12393 users and 5155 games in the data\n"
     ]
    }
   ],
   "source": [
    "n_users = len(clean_df.UserID.unique())\n",
    "n_games = len(clean_df.Game.unique())\n",
    "\n",
    "print('There are {0} users and {1} games in the data'.format(n_users, n_games))"
   ]
  },
  {
   "cell_type": "code",
   "execution_count": 7,
   "metadata": {
    "_uuid": "6b4bc348e83ad53bfba46c68ec596c0788c12a97",
    "collapsed": false,
    "deletable": true,
    "editable": true,
    "jupyter": {
     "outputs_hidden": false
    }
   },
   "outputs": [
    {
     "name": "stdout",
     "output_type": "stream",
     "text": [
      "0.20% of the user-item matrix is filled\n"
     ]
    }
   ],
   "source": [
    "# If we build a matrix of users x games, how many cells in the matrix will be filled?\n",
    "sparsity = clean_df.shape[0] / float(n_users * n_games)\n",
    "print('{:.2%} of the user-item matrix is filled'.format(sparsity))"
   ]
  },
  {
   "cell_type": "code",
   "execution_count": 13,
   "metadata": {
    "_uuid": "61e8ccec229e7bce4cb7e3f9d14471d146d6b0c2",
    "deletable": true,
    "editable": true,
    "tags": []
   },
   "outputs": [],
   "source": [
    "# Here \n",
    "user_counter = Counter()\n",
    "for user in clean_df.UserID.tolist():\n",
    "    user_counter[user] +=1\n",
    "\n",
    "game_counter = Counter()\n",
    "for game in clean_df.Game.tolist():\n",
    "    game_counter[game] += 1"
   ]
  },
  {
   "cell_type": "code",
   "execution_count": 14,
   "metadata": {
    "_uuid": "ac1ac04b4a6f8f80eaa0bf2feb3bc124deda2c55",
    "deletable": true,
    "editable": true,
    "tags": []
   },
   "outputs": [],
   "source": [
    "# Create the dictionaries to convert user and games to idx and back\n",
    "user2idx = {user: i for i, user in enumerate(clean_df.UserID.unique())}\n",
    "idx2user = {i: user for user, i in user2idx.items()}\n",
    "\n",
    "game2idx = {game: i for i, game in enumerate(clean_df.Game.unique())}\n",
    "idx2game = {i: game for game, i in game2idx.items()}"
   ]
  },
  {
   "cell_type": "code",
   "execution_count": 15,
   "metadata": {
    "_uuid": "76d4facf2f828c4410f59f761859b118d0fbe69e",
    "deletable": true,
    "editable": true,
    "tags": []
   },
   "outputs": [],
   "source": [
    "# Convert the user and games to idx\n",
    "user_idx = clean_df['UserID'].apply(lambda x: user2idx[x]).values\n",
    "game_idx = clean_df['gameIdx'] = clean_df['Game'].apply(lambda x: game2idx[x]).values\n",
    "hours = clean_df['Hours_Played'].values"
   ]
  },
  {
   "cell_type": "markdown",
   "metadata": {
    "_uuid": "5b8cc11619207a93878f821fe0e0c5c44bdc43a0",
    "deletable": true,
    "editable": true,
    "tags": []
   },
   "source": [
    "## Converting the data to a user x game matrix\n"
   ]
  },
  {
   "cell_type": "code",
   "execution_count": 16,
   "metadata": {
    "_uuid": "6a50e377affdbfe0fbd89f3f0a76b4cd4d1b92b9",
    "collapsed": false,
    "deletable": true,
    "editable": true,
    "jupyter": {
     "outputs_hidden": false
    }
   },
   "outputs": [],
   "source": [
    "# Using a sparse matrix will be more memory efficient and necessary for larger dataset, \n",
    "# but this works for now.\n",
    "\n",
    "zero_matrix = np.zeros(shape = (n_users, n_games)) # Create a zero matrix\n",
    "user_game_pref = zero_matrix.copy()\n",
    "user_game_pref[user_idx, game_idx] = 1 # Fill the matrix will preferences (bought)\n",
    "\n",
    "user_game_interactions = zero_matrix.copy()\n",
    "# Fill the confidence with (hours played)\n",
    "# Added 1 to the hours played so that we have min. confidence for games bought but not played.\n",
    "user_game_interactions[user_idx, game_idx] = hours + 1 "
   ]
  },
  {
   "cell_type": "markdown",
   "metadata": {
    "_uuid": "70cb40ff652ec92f73e9a576c291994af96d8eba",
    "deletable": true,
    "editable": true
   },
   "source": [
    "## Validation\n"
   ]
  },
  {
   "cell_type": "code",
   "execution_count": 17,
   "metadata": {
    "_uuid": "54aaf7d93dc19be314657bdb0bf87ac79e5acfed",
    "collapsed": false,
    "deletable": true,
    "editable": true,
    "jupyter": {
     "outputs_hidden": false
    }
   },
   "outputs": [
    {
     "name": "stdout",
     "output_type": "stream",
     "text": [
      "2189 users bought 10 or more games\n"
     ]
    }
   ],
   "source": [
    "k = 5\n",
    "\n",
    "# Count the number of purchases for each user\n",
    "purchase_counts = np.apply_along_axis(np.bincount, 1, user_game_pref.astype(int))\n",
    "buyers_idx = np.where(purchase_counts[:, 1] >= 2 * k)[0] #find the users who purchase 2 * k games\n",
    "print('{0} users bought {1} or more games'.format(len(buyers_idx), 2 * k))"
   ]
  },
  {
   "cell_type": "code",
   "execution_count": 18,
   "metadata": {
    "_uuid": "fddf039e653a59692e0977b7d84278c85e2686bd",
    "collapsed": false,
    "deletable": true,
    "editable": true,
    "jupyter": {
     "outputs_hidden": false
    }
   },
   "outputs": [],
   "source": [
    "test_frac = 0.2 # Let's save 10% of the data for validation and 10% for testing.\n",
    "test_users_idx = np.random.choice(buyers_idx,\n",
    "                                  size = int(np.ceil(len(buyers_idx) * test_frac)),\n",
    "                                  replace = False)"
   ]
  },
  {
   "cell_type": "code",
   "execution_count": 19,
   "metadata": {
    "_uuid": "9710841cddf65ea950c974292b2deaae0ff0644b",
    "collapsed": false,
    "deletable": true,
    "editable": true,
    "jupyter": {
     "outputs_hidden": false
    }
   },
   "outputs": [],
   "source": [
    "val_users_idx = test_users_idx[:int(len(test_users_idx) / 2)]\n",
    "test_users_idx = test_users_idx[int(len(test_users_idx) / 2):]"
   ]
  },
  {
   "cell_type": "code",
   "execution_count": 20,
   "metadata": {
    "_uuid": "534397813aef17085c2731a0176820d19c725bad",
    "deletable": true,
    "editable": true,
    "tags": []
   },
   "outputs": [],
   "source": [
    "# A function used to mask the preferences data from training matrix\n",
    "def data_process(dat, train, test, user_idx, k):\n",
    "    for user in user_idx:\n",
    "        purchases = np.where(dat[user, :] == 1)[0]\n",
    "        mask = np.random.choice(purchases, size = k, replace = False)\n",
    "        \n",
    "        train[user, mask] = 0\n",
    "        test[user, mask] = dat[user, mask]\n",
    "    return train, test"
   ]
  },
  {
   "cell_type": "code",
   "execution_count": 21,
   "metadata": {
    "_uuid": "786e22be3423b9d1aaf26d6438c7013740692090",
    "collapsed": false,
    "deletable": true,
    "editable": true,
    "jupyter": {
     "outputs_hidden": false
    }
   },
   "outputs": [],
   "source": [
    "train_matrix = user_game_pref.copy()\n",
    "test_matrix = zero_matrix.copy()\n",
    "val_matrix = zero_matrix.copy()\n",
    "\n",
    "# Mask the train matrix and create the validation and test matrices\n",
    "train_matrix, val_matrix = data_process(user_game_pref, train_matrix, val_matrix, val_users_idx, k)\n",
    "train_matrix, test_matrix = data_process(user_game_pref, train_matrix, test_matrix, test_users_idx, k)"
   ]
  },
  {
   "cell_type": "code",
   "execution_count": 22,
   "metadata": {
    "_uuid": "237203d225369a9c781b66993470500aff764891",
    "collapsed": false,
    "deletable": true,
    "editable": true,
    "jupyter": {
     "outputs_hidden": false
    }
   },
   "outputs": [
    {
     "data": {
      "text/plain": [
       "array([1., 1., 1., 1., 1.])"
      ]
     },
     "execution_count": 22,
     "metadata": {},
     "output_type": "execute_result"
    }
   ],
   "source": [
    "# let's take a look at what was actually accomplised\n",
    "# You can see the test matrix preferences are masked in the train matrix\n",
    "test_matrix[test_users_idx[0], test_matrix[test_users_idx[0], :].nonzero()[0]]"
   ]
  },
  {
   "cell_type": "code",
   "execution_count": 23,
   "metadata": {
    "_uuid": "c7a1cb328120060a6ec633af1112ec857792724a",
    "collapsed": false,
    "deletable": true,
    "editable": true,
    "jupyter": {
     "outputs_hidden": false
    }
   },
   "outputs": [
    {
     "data": {
      "text/plain": [
       "array([0., 0., 0., 0., 0.])"
      ]
     },
     "execution_count": 23,
     "metadata": {},
     "output_type": "execute_result"
    }
   ],
   "source": [
    "train_matrix[test_users_idx[0], test_matrix[test_users_idx[0], :].nonzero()[0]]"
   ]
  },
  {
   "cell_type": "markdown",
   "metadata": {
    "_uuid": "eea97f60b9e5f7f983f7de588ab29559b4debdf8",
    "deletable": true,
    "editable": true
   },
   "source": [
    "## Tensorflow Implementation\n"
   ]
  },
  {
   "cell_type": "code",
   "execution_count": 44,
   "metadata": {
    "_uuid": "e021b17a064b41854fe21804fe3f30076cea5aa8",
    "deletable": true,
    "editable": true,
    "tags": []
   },
   "outputs": [],
   "source": [
    "import tensorflow.compat.v1 as tf\n",
    "tf.disable_v2_behavior()\n",
    "\n",
    "tf.reset_default_graph() # Create a new graphs\n",
    "\n",
    "pref = tf.placeholder(tf.float32, (n_users, n_games))  # Here's the preference matrix\n",
    "interactions = tf.placeholder(tf.float32, (n_users, n_games)) # Here's the hours played matrix\n",
    "users_idx = tf.placeholder(tf.int32, (None))"
   ]
  },
  {
   "cell_type": "markdown",
   "metadata": {
    "_uuid": "597acc8b735fecc04cae3b7b1e7e6456562bbe94",
    "deletable": true,
    "editable": true
   },
   "source": [
    "Instead of directly multiplying the hours played matrix with the preference matrix, we want to add a confidence parameter. We can think of it as how much weight we should give to these interactions. The [original paper](http://yifanhu.net/PUB/cf.pdf) recommends setting the parameter to 40, but I found the result to be less than ideal. Instead, I sampled it from a uniform distribution and use gradient descent to find the optimal value."
   ]
  },
  {
   "cell_type": "code",
   "execution_count": 45,
   "metadata": {
    "_uuid": "402e2bee4305c6956cbc3d579d1f0a27ed5023ac",
    "deletable": true,
    "editable": true,
    "tags": []
   },
   "outputs": [],
   "source": [
    "n_features = 30 # Number of latent features to be extracted\n",
    "\n",
    "# The X matrix represents the user latent preferences with a shape of user x latent features\n",
    "X = tf.Variable(tf.truncated_normal([n_users, n_features], mean = 0, stddev = 0.05))\n",
    "\n",
    "# The Y matrix represents the game latent features with a shape of game x latent features\n",
    "Y = tf.Variable(tf.truncated_normal([n_games, n_features], mean = 0, stddev = 0.05))\n",
    "\n",
    "# Here's the initilization of the confidence parameter\n",
    "conf_alpha = tf.Variable(tf.random_uniform([1], 0, 1))"
   ]
  },
  {
   "cell_type": "markdown",
   "metadata": {
    "_uuid": "2b727b5f7282b6081bd92af24bfefe19a9bf256b",
    "deletable": true,
    "editable": true
   },
   "source": [
    "## User and Item Bias\n"
   ]
  },
  {
   "cell_type": "code",
   "execution_count": 46,
   "metadata": {
    "_uuid": "4b497db519864c9f64766733813417ff330113a9",
    "collapsed": false,
    "deletable": true,
    "editable": true,
    "jupyter": {
     "outputs_hidden": false
    }
   },
   "outputs": [],
   "source": [
    "# Initialize a user bias vector\n",
    "user_bias = tf.Variable(tf.truncated_normal([n_users, 1], stddev = 0.2))\n",
    "\n",
    "# Concatenate the vector to the user matrix\n",
    "# Due to how matrix algebra works, we also need to add a column of ones to make sure\n",
    "# the resulting calculation will take into account the item biases.\n",
    "X_plus_bias = tf.concat([X, \n",
    "                         #tf.convert_to_tensor(user_bias, dtype = tf.float32),\n",
    "                         user_bias,\n",
    "                         tf.ones((n_users, 1), dtype = tf.float32)], axis = 1)"
   ]
  },
  {
   "cell_type": "code",
   "execution_count": 47,
   "metadata": {
    "_uuid": "e3ac06b75c580a4dfda6aa7d9732566e5dc89e0f",
    "collapsed": false,
    "deletable": true,
    "editable": true,
    "jupyter": {
     "outputs_hidden": false
    }
   },
   "outputs": [],
   "source": [
    "# Initialize the item bias vector\n",
    "item_bias = tf.Variable(tf.truncated_normal([n_games, 1], stddev = 0.2))\n",
    "\n",
    "# Cocatenate the vector to the game matrix\n",
    "# Also, adds a column one for the same reason stated above.\n",
    "Y_plus_bias = tf.concat([Y, \n",
    "                         tf.ones((n_games, 1), dtype = tf.float32),\n",
    "                         item_bias],\n",
    "                         axis = 1)"
   ]
  },
  {
   "cell_type": "code",
   "execution_count": 48,
   "metadata": {
    "_uuid": "f338fa54d4d79dedaf06c81e03a83107df285182",
    "deletable": true,
    "editable": true,
    "tags": []
   },
   "outputs": [],
   "source": [
    "# Here, we finally multiply the matrices together to estimate the predicted preferences\n",
    "pred_pref = tf.matmul(X_plus_bias, Y_plus_bias, transpose_b=True)\n",
    "\n",
    "# Construct the confidence matrix with the hours played and alpha paramter\n",
    "conf = 1 + conf_alpha * interactions"
   ]
  },
  {
   "cell_type": "code",
   "execution_count": 49,
   "metadata": {
    "_uuid": "211103a111b2dc40cf3193ffd7391de26447632d",
    "deletable": true,
    "editable": true,
    "tags": []
   },
   "outputs": [],
   "source": [
    "cost = tf.reduce_sum(tf.multiply(conf, tf.square(tf.subtract(pref, pred_pref))))\n",
    "l2_sqr = tf.nn.l2_loss(X) + tf.nn.l2_loss(Y) + tf.nn.l2_loss(user_bias) + tf.nn.l2_loss(item_bias)\n",
    "lambda_c = 0.01\n",
    "loss = cost + lambda_c * l2_sqr"
   ]
  },
  {
   "cell_type": "code",
   "execution_count": 50,
   "metadata": {
    "_uuid": "6837caa862d8189139826a2959ac058c1f7e5103",
    "collapsed": false,
    "deletable": true,
    "editable": true,
    "jupyter": {
     "outputs_hidden": false
    }
   },
   "outputs": [
    {
     "name": "stdout",
     "output_type": "stream",
     "text": [
      "WARNING:tensorflow:From C:\\ProgramData\\Anaconda3\\lib\\site-packages\\tensorflow\\python\\training\\adagrad.py:138: calling Constant.__init__ (from tensorflow.python.ops.init_ops) with dtype is deprecated and will be removed in a future version.\n",
      "Instructions for updating:\n",
      "Call initializer instance with the dtype argument instead of passing it to the constructor\n"
     ]
    }
   ],
   "source": [
    "lr = 0.05\n",
    "optimize = tf.train.AdagradOptimizer(learning_rate = lr).minimize(loss)"
   ]
  },
  {
   "cell_type": "code",
   "execution_count": 51,
   "metadata": {
    "_uuid": "bad165c94772a2d907116e60aaaa4364b197e894",
    "collapsed": false,
    "deletable": true,
    "editable": true,
    "jupyter": {
     "outputs_hidden": false
    }
   },
   "outputs": [],
   "source": [
    "# This is a function that helps to calculate the top k precision \n",
    "def top_k_precision(pred, mat, k, user_idx):\n",
    "    precisions = []\n",
    "    \n",
    "    for user in user_idx:\n",
    "        rec = np.argsort(-pred[user, :]) # Found the top recommendation from the predictions\n",
    "        \n",
    "        top_k = rec[:k]\n",
    "        labels = mat[user, :].nonzero()[0]\n",
    "        \n",
    "        precision = len(set(top_k) & set(labels)) / float(k) # Calculate the precisions from actual labels\n",
    "        precisions.append(precision)\n",
    "    return np.mean(precisions) "
   ]
  },
  {
   "cell_type": "code",
   "execution_count": 52,
   "metadata": {
    "_uuid": "351bff2fefb97e61f4919dc142694b53383d8f42",
    "collapsed": false,
    "deletable": true,
    "editable": true,
    "jupyter": {
     "outputs_hidden": false
    }
   },
   "outputs": [
    {
     "name": "stdout",
     "output_type": "stream",
     "text": [
      "Iterations 0... Training Loss 2778384.75... Train Precision 0.064... Val Precision 0.018\n",
      "Iterations 10... Training Loss -169873.69... Train Precision 0.281... Val Precision 0.058\n",
      "Iterations 20... Training Loss -26610642.00... Train Precision 0.090... Val Precision 0.012\n",
      "Iterations 30... Training Loss -444637184.00... Train Precision 0.019... Val Precision 0.005\n",
      "Iterations 40... Training Loss -1976450176.00... Train Precision 0.022... Val Precision 0.005\n",
      "Iterations 50... Training Loss -5286863360.00... Train Precision 0.019... Val Precision 0.005\n",
      "Iterations 60... Training Loss -10934842368.00... Train Precision 0.017... Val Precision 0.004\n",
      "Iterations 70... Training Loss -19405002752.00... Train Precision 0.017... Val Precision 0.005\n",
      "\n",
      "\n",
      "Test Precision0.008\n"
     ]
    }
   ],
   "source": [
    "iterations = 80\n",
    "with tf.Session() as sess:\n",
    "    sess.run(tf.global_variables_initializer())\n",
    "    \n",
    "    for i in range(iterations):\n",
    "        sess.run(optimize, feed_dict = {pref: train_matrix,\n",
    "                                        interactions: user_game_interactions})\n",
    "        \n",
    "        if i % 10 == 0:\n",
    "            mod_loss = sess.run(loss, feed_dict = {pref: train_matrix,\n",
    "                                                   interactions: user_game_interactions})            \n",
    "            mod_pred = pred_pref.eval()\n",
    "            train_precision = top_k_precision(mod_pred, train_matrix, k, val_users_idx)\n",
    "            val_precision = top_k_precision(mod_pred, val_matrix, k, val_users_idx)\n",
    "            print('Iterations {0}...'.format(i),\n",
    "                  'Training Loss {:.2f}...'.format(mod_loss),\n",
    "                  'Train Precision {:.3f}...'.format(train_precision),\n",
    "                  'Val Precision {:.3f}'.format(val_precision)\n",
    "                )\n",
    "\n",
    "    rec = pred_pref.eval()\n",
    "    test_precision = top_k_precision(rec, test_matrix, k, test_users_idx)\n",
    "    print('\\n')\n",
    "    print('Test Precision{:.3f}'.format(test_precision))"
   ]
  },
  {
   "cell_type": "markdown",
   "metadata": {
    "_uuid": "2191459c3f7f182d144b14b5f66c6730f1990c2d",
    "deletable": true,
    "editable": true
   },
   "source": [
    "## Examples\n"
   ]
  },
  {
   "cell_type": "code",
   "execution_count": 53,
   "metadata": {
    "_uuid": "94eae1c87b58395226882fdb5e5048366088092d",
    "collapsed": false,
    "deletable": true,
    "editable": true,
    "jupyter": {
     "outputs_hidden": false
    }
   },
   "outputs": [],
   "source": [
    "n_examples = 10\n",
    "users = np.random.choice(test_users_idx, size = n_examples, replace = False)\n",
    "rec_games = np.argsort(-rec)"
   ]
  },
  {
   "cell_type": "code",
   "execution_count": 54,
   "metadata": {
    "_uuid": "b948ea4c386532571ef352accecc3f9899d18850",
    "collapsed": false,
    "deletable": true,
    "editable": true,
    "jupyter": {
     "outputs_hidden": false
    }
   },
   "outputs": [
    {
     "name": "stdout",
     "output_type": "stream",
     "text": [
      "Recommended Games for 133404545 are ...\n",
      "We recommend these games\n",
      "X-Plane 10 Global - 64 Bit, Tom Clancy's Ghost Recon Phantoms - NA, Disciples III Reincarnation, LEGO MARVEL Super Heroes, Sakura Clicker\n",
      "\n",
      "\n",
      "The games that the user actually purchased are ...\n",
      "Portal 2, Skyrim High Resolution Texture Pack, The Elder Scrolls V Skyrim, The Elder Scrolls V Skyrim - Hearthfire, RollerCoaster Tycoon 3 Platinum!\n",
      "\n",
      "\n",
      "Precision of 0.0\n",
      "--------------------------------------\n",
      "\n",
      "\n",
      "Recommended Games for 42363887 are ...\n",
      "We recommend these games\n",
      "Disciples III Reincarnation, Might & Magic Duel of Champions, F1 2013, Loadout, X-Plane 10 Global - 64 Bit\n",
      "\n",
      "\n",
      "The games that the user actually purchased are ...\n",
      "Stronghold HD, Medieval II Total War, Medieval II Total War Kingdoms, Total War ROME II - Emperor Edition, Rugby Challenge 2\n",
      "\n",
      "\n",
      "Precision of 0.0\n",
      "--------------------------------------\n",
      "\n",
      "\n",
      "Recommended Games for 88173801 are ...\n",
      "We recommend these games\n",
      "Killing Floor 2, Call of Duty Black Ops II - Zombies, Perpetuum, Mortal Kombat Komplete Edition, Battle Nations\n",
      "\n",
      "\n",
      "The games that the user actually purchased are ...\n",
      "Portal, Deus Ex Invisible War, SpaceChem, GTR Evolution, Anachronox\n",
      "\n",
      "\n",
      "Precision of 0.0\n",
      "--------------------------------------\n",
      "\n",
      "\n",
      "Recommended Games for 183574382 are ...\n",
      "We recommend these games\n",
      "Perpetuum, Europa Universalis III, Prime World, Firefall, DRAGON BALL XENOVERSE\n",
      "\n",
      "\n",
      "The games that the user actually purchased are ...\n",
      "Dino D-Day, Really Big Sky, Frontline Tactics, Battlegrounds of Eldhelm, My Lands\n",
      "\n",
      "\n",
      "Precision of 0.0\n",
      "--------------------------------------\n",
      "\n",
      "\n",
      "Recommended Games for 71603645 are ...\n",
      "We recommend these games\n",
      "Zombie Panic Source, Disciples III Reincarnation, Rocksmith 2014, F1 2013, Loadout\n",
      "\n",
      "\n",
      "The games that the user actually purchased are ...\n",
      "The Elder Scrolls V Skyrim, RAGE, Empire Total War, Total War ROME II - Emperor Edition, Riven\n",
      "\n",
      "\n",
      "Precision of 0.0\n",
      "--------------------------------------\n",
      "\n",
      "\n",
      "Recommended Games for 63990035 are ...\n",
      "We recommend these games\n",
      "X-Plane 10 Global - 64 Bit, Tom Clancy's Ghost Recon Phantoms - NA, LEGO MARVEL Super Heroes, Disciples III Reincarnation, The LEGO Movie - Videogame\n",
      "\n",
      "\n",
      "The games that the user actually purchased are ...\n",
      "Counter-Strike Source, Rocket League, Warface, Warframe, Fistful of Frags\n",
      "\n",
      "\n",
      "Precision of 0.0\n",
      "--------------------------------------\n",
      "\n",
      "\n",
      "Recommended Games for 166705920 are ...\n",
      "We recommend these games\n",
      "Dota 2, DayZ, Clicker Heroes, Call of Duty Modern Warfare 2 - Multiplayer, Borderlands\n",
      "\n",
      "\n",
      "The games that the user actually purchased are ...\n",
      "Dota 2, War Thunder, No More Room in Hell, Spiral Knights, Navy Field 2  Conqueror of the Ocean\n",
      "\n",
      "\n",
      "Precision of 0.2\n",
      "--------------------------------------\n",
      "\n",
      "\n",
      "Recommended Games for 106057222 are ...\n",
      "We recommend these games\n",
      "X-Plane 10 Global - 64 Bit, Tom Clancy's Ghost Recon Phantoms - NA, Disciples III Reincarnation, LEGO MARVEL Super Heroes, The LEGO Movie - Videogame\n",
      "\n",
      "\n",
      "The games that the user actually purchased are ...\n",
      "Dota 2, Team Fortress 2, XCOM Enemy Unknown, Supreme Commander 2 - Infinite War Battle Pack One, Zombie Driver HD\n",
      "\n",
      "\n",
      "Precision of 0.0\n",
      "--------------------------------------\n",
      "\n",
      "\n",
      "Recommended Games for 60611062 are ...\n",
      "We recommend these games\n",
      "X-Plane 10 Global - 64 Bit, Crusaders of the Lost Idols, LEGO MARVEL Super Heroes, Disciples III Reincarnation, Train Simulator\n",
      "\n",
      "\n",
      "The games that the user actually purchased are ...\n",
      "Counter-Strike, Patch testing for Chivalry, Magicka Wizard's Survival Kit, Trove, Tom Clancy's Ghost Recon Phantoms - NA Looks and Power (Assault)\n",
      "\n",
      "\n",
      "Precision of 0.0\n",
      "--------------------------------------\n",
      "\n",
      "\n",
      "Recommended Games for 5217749 are ...\n",
      "We recommend these games\n",
      "Europa Universalis III, Perpetuum, Mortal Kombat Komplete Edition, Battle Nations, Galactic Civilizations III\n",
      "\n",
      "\n",
      "The games that the user actually purchased are ...\n",
      "Counter-Strike, Half-Life, Half-Life 2, Ricochet, Team Fortress Classic\n",
      "\n",
      "\n",
      "Precision of 0.0\n",
      "--------------------------------------\n",
      "\n",
      "\n"
     ]
    }
   ],
   "source": [
    "for user in users:\n",
    "    print('Recommended Games for {0} are ...'.format(idx2user[user]))\n",
    "    purchase_history = np.where(train_matrix[user, :] != 0)[0]\n",
    "    recommendations = rec_games[user, :]\n",
    "\n",
    "    \n",
    "    new_recommendations = recommendations[~np.in1d(recommendations, purchase_history)][:k]\n",
    "    \n",
    "    print('We recommend these games')\n",
    "    print(', '.join([idx2game[game] for game in new_recommendations]))\n",
    "    print('\\n')\n",
    "    print('The games that the user actually purchased are ...')\n",
    "    print(', '.join([idx2game[game] for game in np.where(test_matrix[user, :] != 0)[0]]))\n",
    "    print('\\n')\n",
    "    print('Precision of {0}'.format(len(set(new_recommendations) & set(np.where(test_matrix[user, :] != 0)[0])) / float(k)))\n",
    "    print('--------------------------------------')\n",
    "    print('\\n')"
   ]
  }
 ],
 "metadata": {
  "kernelspec": {
   "display_name": "Python 3 (ipykernel)",
   "language": "python",
   "name": "python3"
  },
  "language_info": {
   "codemirror_mode": {
    "name": "ipython",
    "version": 3
   },
   "file_extension": ".py",
   "mimetype": "text/x-python",
   "name": "python",
   "nbconvert_exporter": "python",
   "pygments_lexer": "ipython3",
   "version": "3.9.7"
  }
 },
 "nbformat": 4,
 "nbformat_minor": 4
}
